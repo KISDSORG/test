{
 "cells": [
  {
   "cell_type": "markdown",
   "id": "030511a6",
   "metadata": {},
   "source": [
    "### 0. 라이브러리 및 함수 세팅"
   ]
  },
  {
   "cell_type": "code",
   "execution_count": 24,
   "id": "bbc75355",
   "metadata": {},
   "outputs": [],
   "source": [
    "import streamlit as st\n",
    "import requests\n",
    "import zipfile\n",
    "import os\n",
    "import shutil\n",
    "import pandas as pd\n",
    "from bs4 import BeautifulSoup\n",
    "from io import BytesIO\n",
    "import warnings\n",
    "import pickle\n",
    "import datetime\n",
    "from datetime import timedelta\n",
    "\n",
    "warnings.filterwarnings(action='ignore')\n",
    "API_KEY = 'd7d1be298b9cac1558eab570011f2bb40e2a6825'\n",
    "headers= {'user-agent': 'Mozilla/5.0 (Windows NT 10.0; Win64; x64) AppleWebKit/537.36 (KHTML, like Gecko) Chrome/103.0.0.0 Safari/537.36',\n",
    "          'Accept-Encoding': '*', 'Connection': 'keep-alive'}"
   ]
  },
  {
   "cell_type": "code",
   "execution_count": 16,
   "id": "35d3c5cd",
   "metadata": {},
   "outputs": [
    {
     "name": "stdout",
     "output_type": "stream",
     "text": [
      "20230212\n"
     ]
    }
   ],
   "source": [
    "target_day = (datetime.datetime.today()-timedelta(days=1)).strftime('%Y%m%d')\n",
    "print(target_day)\n",
    "bgn_de = target_day # 코드 수행 전일\n",
    "end_de = target_day # 코드 수행 전일"
   ]
  },
  {
   "cell_type": "code",
   "execution_count": 20,
   "id": "a0de73d9",
   "metadata": {},
   "outputs": [],
   "source": [
    "bgn_de = '20230210'\n",
    "end_de = '20230210'"
   ]
  },
  {
   "cell_type": "code",
   "execution_count": 17,
   "id": "61abf45b",
   "metadata": {},
   "outputs": [],
   "source": [
    "# 보고서명, 일자로 검색해서 보고서 접수번호 추출\n",
    "def get_rcept_no(report_nm, bgn_de, end_de) :\n",
    "    rcept_no_list = []\n",
    "    url = 'https://opendart.fss.or.kr/api/list.xml'\n",
    "    params = {'crtfc_key': API_KEY\n",
    "              , 'bgn_de' : bgn_de\n",
    "              , 'end_de' : end_de\n",
    "              , 'pblntf_detail_ty': 'B001'\n",
    "              , 'last_reprt_at':'Y'}\n",
    "    response = requests.get(url, params=params, headers=headers, verify=False)\n",
    "    soup = BeautifulSoup(response.content, features='xml')\n",
    "    total_page = soup.find('total_page').get_text()\n",
    "    \n",
    "    for i in range(1, int(total_page) + 1):\n",
    "        params = {'crtfc_key': API_KEY\n",
    "                  , 'bgn_de': bgn_de\n",
    "                  , 'end_de': end_de\n",
    "                  , 'pblntf_detail_ty': 'B001'\n",
    "                  , 'page_no': str(i)\n",
    "                  , 'last_reprt_at':'Y'}\n",
    "        response = requests.get(url, params=params, headers=headers, verify=False)\n",
    "        soup = BeautifulSoup(response.content, features='xml')\n",
    "        for c in soup.find_all('list'):\n",
    "            if c.report_nm.get_text() == report_nm or c.report_nm.get_text() == '[기재정정]'+report_nm:\n",
    "                rcept_no_list.append(c.rcept_no.get_text())\n",
    "        \n",
    "    print('보고서명:', report_nm,', 보고서수: ', len(rcept_no_list))\n",
    "    \n",
    "    return rcept_no_list"
   ]
  },
  {
   "cell_type": "code",
   "execution_count": 18,
   "id": "421c3dcd",
   "metadata": {},
   "outputs": [],
   "source": [
    "def get_corp_docu(rcept_no):\n",
    "    url = 'https://opendart.fss.or.kr/api/document.xml'\n",
    "    params = {'crtfc_key': API_KEY, 'rcept_no': rcept_no}\n",
    "    response = requests.get(url, params=params)\n",
    "    \n",
    "    try:\n",
    "        zf = zipfile.ZipFile(BytesIO(response.content))\n",
    "        fp = zf.read('{}.xml'.format(rcept_no))\n",
    "        try: \n",
    "            xml_str = fp.decode('cp949')\n",
    "            xml_str = xml_str.replace('<=', '')\n",
    "            xml = xml_str.encode('cp949')\n",
    "        except:\n",
    "            xml_str = fp.decode('utf-8')\n",
    "            xml_str = xml_str.replace('<=', '')\n",
    "            xml = xml_str.encode('utf-8')\n",
    "            \n",
    "        soup = BeautifulSoup(xml, features='html.parser')\n",
    "        doc_nm = '전환사채권' if '전환사채권' in soup.find('document-name').get_text() else ('신주인수권부사채권' if '신주인수권' in soup.find('document-name').get_text() else '교환사채권') #보고서 종류\n",
    "        table = soup.find('table-group', attrs={'aclass':'CB_PUB'}) if doc_nm=='전환사채권' else (soup.find('table-group', attrs={'aclass':'BW_PUB'}) if doc_nm=='신주인수권부사채권' else soup.find('table-group', attrs={'aclass':'EB_PUB'}))\n",
    "        company_nm = soup.find('company-name').get_text() #발행사\n",
    "        rcept_dt = rcept_no[:8] #공시일\n",
    "        pym_dt = table.find('tu', attrs={'aunit':'PYM_DT'}).get('aunitvalue') #발행일\n",
    "        seq_no = table.find('te', attrs={'acode':'SEQ_NO'}).get_text() #회차\n",
    "        dnm_sum = table.find('te', attrs={'acode':'DNM_SUM'}).get_text() #권면총액\n",
    "        prft_rate = table.find('te', attrs={'acode':'PRFT_RATE'}).get_text() #표면이자율\n",
    "        lst_rtn_rt = table.find('te', attrs={'acode':'LST_RTN_RT'}).get_text() #만기이자율\n",
    "        exp_dt = table.find('tu', attrs={'aunit':'EXP_DT'}).get('aunitvalue')  #사채만기일\n",
    "        exe_rt = table.find('te', attrs={'acode':'EXE_RT'}).get_text() #전환비율\n",
    "        exe_prc = table.find('te', attrs={'acode':'EXE_PRC'}).get_text() #전환가액\n",
    "        stk_knd = table.find('te', attrs={'acode':'STK_KND'}).get_text() #대상주식\n",
    "        stk_cnt = table.find('te', attrs={'acode':'STK_CNT'}).get_text() #주식수\n",
    "        stk_rt = table.find('te', attrs={'acode':'STK_RT'}).get_text() #주식총수대비비율\n",
    "        sb_bgn_dt = table.find('tu', attrs={'aunit':'SB_BGN_DT'}).get('aunitvalue') #전환청구기간 시작일\n",
    "        sb_end_dt = table.find('tu', attrs={'aunit':'SB_END_DT'}).get('aunitvalue') #전환청구기간 종료일\n",
    "        sb_dt = sb_bgn_dt+\"~\"+sb_end_dt\n",
    "        try:\n",
    "            min_rsn = table.find('te', attrs={'acode':'MIN_RSN'}).get_text() #리픽싱조항\n",
    "            min_prc = table.find('te', attrs={'acode':'MIN_PRC'}).get_text() #최저조정가액한도\n",
    "        except:\n",
    "            min_rsn = '-'\n",
    "            min_prc = '-'\n",
    "        \n",
    "        issu_table_group = soup.find('table-group', attrs={'aclass':'CRP_ISSU'}) #인수인 부분(특정인에 대한 대상자별 사채발행내역)\n",
    "        issu_table = issu_table_group.find('table', attrs={'aclass':'EXTRACTION'})\n",
    "        issu_nms = issu_table.tbody.find_all('tr')\n",
    "        issu_nm = \"\"\n",
    "        for i in issu_nms:\n",
    "            issu_nm = issu_nm + i.find('te', attrs={'acode':\"ISSU_NM\"}).get_text() + \",\"\n",
    "        issu_nm = issu_nm[:-1]\n",
    "        \n",
    "        row = {'종류': doc_nm, '발행사':company_nm,'공시일':rcept_dt, '발행일':pym_dt, '회차':seq_no, '권면총액':dnm_sum, '표면이자율(%)':prft_rate,'만기이자율(%)':lst_rtn_rt,\n",
    "               '사채만기일':exp_dt, '전환/행사/교환 비율':exe_rt, '전환/행사/교환 가액':exe_prc, '대상주식':stk_knd, '주식수':stk_cnt,\n",
    "               '주식총수대비비율(%)':stk_rt, '전환청구기간':sb_dt, '리픽싱조항':min_rsn, '최저조정가액한도':min_prc, '인수인': issu_nm}\n",
    "    \n",
    "    except Exception as e:\n",
    "        print(rcept_no+\" Error!\")\n",
    "        print(e)\n",
    "        \n",
    "    return row"
   ]
  },
  {
   "cell_type": "code",
   "execution_count": null,
   "id": "850ee025",
   "metadata": {},
   "outputs": [],
   "source": []
  },
  {
   "cell_type": "markdown",
   "id": "5d69ac09",
   "metadata": {},
   "source": [
    "### 1. 보고서명, 일자로 검색 후 추출 - 보고서 원문 이용"
   ]
  },
  {
   "cell_type": "code",
   "execution_count": 21,
   "id": "cf12dac2",
   "metadata": {
    "scrolled": true
   },
   "outputs": [
    {
     "name": "stdout",
     "output_type": "stream",
     "text": [
      "보고서명: 주요사항보고서(전환사채권발행결정) , 보고서수:  1\n",
      "보고서명: 주요사항보고서(신주인수권부사채권발행결정) , 보고서수:  1\n",
      "보고서명: 주요사항보고서(교환사채권발행결정) , 보고서수:  1\n"
     ]
    }
   ],
   "source": [
    "# 보고서 접수번호 추출\n",
    "rcept_names = ['주요사항보고서(전환사채권발행결정)', '주요사항보고서(신주인수권부사채권발행결정)', '주요사항보고서(교환사채권발행결정)']\n",
    "rcept_no_list = []\n",
    "for r in rcept_names:\n",
    "    rcept_no_list.extend(get_rcept_no(r, bgn_de, end_de))\n",
    "# rcept_no_list"
   ]
  },
  {
   "cell_type": "code",
   "execution_count": 23,
   "id": "93f307f9",
   "metadata": {
    "scrolled": true
   },
   "outputs": [
    {
     "data": {
      "text/plain": [
       "(3, 18)"
      ]
     },
     "execution_count": 23,
     "metadata": {},
     "output_type": "execute_result"
    }
   ],
   "source": [
    "# 보고서 접수번호별 세부정보 추출\n",
    "rows=[]\n",
    "for rcept in rcept_no_list:\n",
    "    try:\n",
    "        row = get_corp_docu(rcept)\n",
    "        rows.append(row)\n",
    "    except:\n",
    "        pass\n",
    "\n",
    "df = pd.DataFrame(rows)\n",
    "df = df[df['대상주식']!='-']\n",
    "df.shape"
   ]
  },
  {
   "cell_type": "code",
   "execution_count": null,
   "id": "744a0fc0",
   "metadata": {},
   "outputs": [],
   "source": []
  },
  {
   "cell_type": "markdown",
   "id": "5cf66bea",
   "metadata": {},
   "source": [
    "### 2. 기존 데이터에 Batch 결과 합치기"
   ]
  },
  {
   "cell_type": "code",
   "execution_count": 33,
   "id": "8c202889",
   "metadata": {},
   "outputs": [
    {
     "data": {
      "text/plain": [
       "(4066, 18)"
      ]
     },
     "execution_count": 33,
     "metadata": {},
     "output_type": "execute_result"
    }
   ],
   "source": [
    "with open('./Mezzanine_new.pkl', 'rb') as f:\n",
    "    df_org = pickle.load(f)\n",
    "    \n",
    "df_org.shape"
   ]
  },
  {
   "cell_type": "code",
   "execution_count": 34,
   "id": "87dc358f",
   "metadata": {},
   "outputs": [],
   "source": [
    "# 기존파일 백업\n",
    "with open('./Mezzanine_bk.pkl', 'wb') as f:\n",
    "    pickle.dump(df_org, f)"
   ]
  },
  {
   "cell_type": "code",
   "execution_count": 35,
   "id": "8a5fb689",
   "metadata": {},
   "outputs": [
    {
     "data": {
      "text/plain": [
       "(4069, 18)"
      ]
     },
     "execution_count": 35,
     "metadata": {},
     "output_type": "execute_result"
    }
   ],
   "source": [
    "df_new = pd.concat([df_org, df])\n",
    "df_new.shape"
   ]
  },
  {
   "cell_type": "code",
   "execution_count": null,
   "id": "c9094abc",
   "metadata": {},
   "outputs": [],
   "source": [
    "with open('./Mezzanine_new_test.pkl', 'wb') as f:\n",
    "    pickle.dump(df_new, f)"
   ]
  },
  {
   "cell_type": "code",
   "execution_count": null,
   "id": "a9b0ddfc",
   "metadata": {},
   "outputs": [],
   "source": []
  },
  {
   "cell_type": "code",
   "execution_count": null,
   "id": "9b311f59",
   "metadata": {},
   "outputs": [],
   "source": []
  },
  {
   "cell_type": "code",
   "execution_count": null,
   "id": "2ec4cd18",
   "metadata": {},
   "outputs": [],
   "source": []
  },
  {
   "cell_type": "code",
   "execution_count": null,
   "id": "ec30eea8",
   "metadata": {},
   "outputs": [],
   "source": []
  },
  {
   "cell_type": "code",
   "execution_count": null,
   "id": "27a6f1d7",
   "metadata": {},
   "outputs": [],
   "source": []
  }
 ],
 "metadata": {
  "kernelspec": {
   "display_name": "Python 3 (ipykernel)",
   "language": "python",
   "name": "python3"
  },
  "language_info": {
   "codemirror_mode": {
    "name": "ipython",
    "version": 3
   },
   "file_extension": ".py",
   "mimetype": "text/x-python",
   "name": "python",
   "nbconvert_exporter": "python",
   "pygments_lexer": "ipython3",
   "version": "3.8.9"
  }
 },
 "nbformat": 4,
 "nbformat_minor": 5
}
